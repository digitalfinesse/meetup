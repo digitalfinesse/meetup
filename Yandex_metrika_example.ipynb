{
 "cells": [
  {
   "cell_type": "markdown",
   "metadata": {},
   "source": [
    "## Скрипт выгрузки статистики всех поисковых запросов ЯМ"
   ]
  },
  {
   "cell_type": "code",
   "execution_count": null,
   "metadata": {
    "collapsed": true
   },
   "outputs": [],
   "source": [
    "# -*- coding: utf-8 -*-\n",
    "import requests\n",
    "import json"
   ]
  },
  {
   "cell_type": "code",
   "execution_count": null,
   "metadata": {
    "collapsed": true
   },
   "outputs": [],
   "source": [
    "# для получения токена заводим приложение на странице https://oauth.yandex.ru/\n",
    "# берем ID приложения и подставляем в ссылку https://oauth.yandex.ru/authorize?response_type=token&client_id=<идентификатор приложения>\n",
    "# на экране покажется отладочный токен, который в этом скрипте token\n",
    "token = ''\n",
    "projects = ['', ''] # список номеров счетчиков метрики, по которым надо брать статистику\n",
    "\n",
    "startDate = '2016-01-11' # начало и конец выгрузки\n",
    "endDate = '2016-01-17'\n",
    "\n",
    "limit = 10000 # по сколько строк выгружаем за раз (максимум 10 000)"
   ]
  },
  {
   "cell_type": "code",
   "execution_count": null,
   "metadata": {
    "collapsed": true
   },
   "outputs": [],
   "source": [
    "# чистим файл\n",
    "f = open('search phrases.txt', 'w')\n",
    "f.close()"
   ]
  },
  {
   "cell_type": "code",
   "execution_count": null,
   "metadata": {
    "collapsed": false
   },
   "outputs": [],
   "source": [
    "for project in projects:\n",
    "    print 'Starting project ' + project\n",
    "    offset=1 # начинаем забирать данные с первой строки\n",
    "    Flag = False # значение Flag=True будет означать выход из цикла выгрузки одного проекта\n",
    "    \n",
    "    while Flag==False:\n",
    "        print 'Starting line ' + str(offset)\n",
    "        url = 'https://api-metrika.yandex.ru/stat/v1/data?oauth_token=' + token + '&id=' + project + '&accuracy=full&date1='+startDate+'&date2='+endDate+'&dimensions=ym:s:<attribution>SearchPhrase&metrics=ym:s:visits&sort=-ym:s:visits&limit='+str(limit)+'&offset='+str(offset)\n",
    "        r = requests.get(url)\n",
    "        #print json.loads(r.text)['data']  # можно посмотреть что в ответе      \n",
    "\n",
    "        with open('search phrases.txt', 'a') as f:\n",
    "            for record in json.loads(r.text)['data']:\n",
    "                #print record['dimensions'][0]['name'], record['metrics'][0]\n",
    "                f.write(project + '\\t' + record['dimensions'][0]['name'].encode('utf-8') + '\\t' + str('%.0f' % record['metrics'][0]) + '\\n')\n",
    "        \n",
    "        offset += limit\n",
    "        if len(json.loads(r.text)['data'])==0:\n",
    "            Flag = True\n",
    "            print ''\n",
    "     "
   ]
  }
 ],
 "metadata": {
  "kernelspec": {
   "display_name": "Python 2",
   "language": "python",
   "name": "python2"
  },
  "language_info": {
   "codemirror_mode": {
    "name": "ipython",
    "version": 2
   },
   "file_extension": ".py",
   "mimetype": "text/x-python",
   "name": "python",
   "nbconvert_exporter": "python",
   "pygments_lexer": "ipython2",
   "version": "2.7.10"
  }
 },
 "nbformat": 4,
 "nbformat_minor": 0
}
