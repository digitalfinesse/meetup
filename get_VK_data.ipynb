{
 "cells": [
  {
   "cell_type": "markdown",
   "metadata": {},
   "source": [
    "## Скрипт получения пользователей и их друзей для группы ВКонтакте"
   ]
  },
  {
   "cell_type": "code",
   "execution_count": null,
   "metadata": {
    "collapsed": false
   },
   "outputs": [],
   "source": [
    "#coding: utf-8\n",
    "import networkx\n",
    "from networkx.readwrite import json_graph\n",
    "\n",
    "import json\n",
    "%matplotlib inline"
   ]
  },
  {
   "cell_type": "code",
   "execution_count": null,
   "metadata": {
    "collapsed": true
   },
   "outputs": [],
   "source": [
    "import requests\n",
    "import json\n",
    "import time"
   ]
  },
  {
   "cell_type": "markdown",
   "metadata": {},
   "source": [
    "### Получаем список пользователей группы"
   ]
  },
  {
   "cell_type": "code",
   "execution_count": null,
   "metadata": {
    "collapsed": false
   },
   "outputs": [],
   "source": [
    "groupID = 77340232  # ID группы (можно получить в строке браузера, зайдя в видеозаписи группы)\n",
    "offset = 0  # начинаем скачивать участников, начиная с первого\n",
    "count = 100  # в каждом запросе берем по count записей. Максимум 1000, тут 100 для примера (группа небольшая)\n",
    "\n",
    "userIDs = []  # список ID пользователей группы\n",
    "\n",
    "while True:\n",
    "    print 'Starting offset ' + str(offset)\n",
    "    \n",
    "    # делаем запрос к API ВКонтакте\n",
    "    r = requests.get('https://api.vk.com/method/groups.getMembers?gid=' + str(groupID) + \\\n",
    "                 '&offset=' + str(offset) + '&count=' + str(count))\n",
    "    \n",
    "    # если вернулся пустой список с данной страницы, значит мы прошли весь список и пора выходить из цикла\n",
    "    if len(json.loads(r.text)['response']['users']) == 0:\n",
    "        break\n",
    "        \n",
    "    # добавляем в список ID пользователей группы очередной список ID\n",
    "    userIDs.extend(json.loads(r.text)['response']['users'])\n",
    "    offset += count\n",
    "\n",
    "    # ждем секунду, т. к. API ВКонтакте позволяет этому методу делать ограниченное количество запросов в секунду\n",
    "    time.sleep(1)"
   ]
  },
  {
   "cell_type": "code",
   "execution_count": null,
   "metadata": {
    "collapsed": false
   },
   "outputs": [],
   "source": [
    "# проверяем, что выгрузили всех участников группы\n",
    "print len(userIDs)"
   ]
  },
  {
   "cell_type": "markdown",
   "metadata": {},
   "source": [
    "### Получаем список друзей каждого участника"
   ]
  },
  {
   "cell_type": "code",
   "execution_count": null,
   "metadata": {
    "collapsed": true
   },
   "outputs": [],
   "source": [
    "# записываем результат в этот файл\n",
    "f = open('users.txt', 'w')\n",
    "f.close()"
   ]
  },
  {
   "cell_type": "code",
   "execution_count": null,
   "metadata": {
    "collapsed": false
   },
   "outputs": [],
   "source": [
    "userInfo = {}  # словарь userInfo будет содержать список друзей пользователя и его ID\n",
    "\n",
    "j = 0  # вспомогательная переменная, чтобы отслеживать сколько еще ждать\n",
    "\n",
    "# для каждого пользователя из нашего списка берем его список друзей\n",
    "for user in userIDs:\n",
    "    # используем try-except, чтобы не брать удаленных пользователей и не попасть в бан\n",
    "    try:\n",
    "        r = requests.get('https://api.vk.com/method/friends.get?user_id=' + str(user))\n",
    "\n",
    "        info = json.loads(r.text)['response']\n",
    "\n",
    "        idsList = []\n",
    "        for uid in info:\n",
    "            idsList.append(uid)\n",
    "\n",
    "        userInfo['id'] = user;\n",
    "        userInfo['friends'] = idsList\n",
    "\n",
    "        with open(\"users.txt\", \"a\") as f:\n",
    "            f.write(str(userInfo) + '\\n')\n",
    "\n",
    "        if j%100==0:\n",
    "            print j\n",
    "\n",
    "        j += 1\n",
    "        time.sleep(0.5)\n",
    "    except:\n",
    "        print 'Waiting...'\n",
    "        print json.loads(r.text)\n",
    "        time.sleep(20)"
   ]
  }
 ],
 "metadata": {
  "kernelspec": {
   "display_name": "Python 2",
   "language": "python",
   "name": "python2"
  },
  "language_info": {
   "codemirror_mode": {
    "name": "ipython",
    "version": 2
   },
   "file_extension": ".py",
   "mimetype": "text/x-python",
   "name": "python",
   "nbconvert_exporter": "python",
   "pygments_lexer": "ipython2",
   "version": "2.7.10"
  }
 },
 "nbformat": 4,
 "nbformat_minor": 0
}
