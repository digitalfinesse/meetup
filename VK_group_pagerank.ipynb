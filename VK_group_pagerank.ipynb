{
 "cells": [
  {
   "cell_type": "markdown",
   "metadata": {},
   "source": [
    "## Скрипт построения графа, подсчета рейтинга по PageRank и визуализации"
   ]
  },
  {
   "cell_type": "code",
   "execution_count": null,
   "metadata": {
    "collapsed": true
   },
   "outputs": [],
   "source": [
    "#coding: utf-8\n",
    "import networkx\n",
    "from networkx.readwrite import json_graph\n",
    "\n",
    "import json\n",
    "import ast\n",
    "\n",
    "import matplotlib.pyplot as plt\n",
    "%matplotlib inline"
   ]
  },
  {
   "cell_type": "code",
   "execution_count": null,
   "metadata": {
    "collapsed": true
   },
   "outputs": [],
   "source": [
    "# формируем список пользователей из файла\n",
    "def load_users(filename):\n",
    "    users={}\n",
    "    with open(filename,'r') as f:\n",
    "        for line in f:\n",
    "            user = ast.literal_eval(line.rstrip('\\n'))\n",
    "            users[user['id']]= user['friends']\n",
    "    return users"
   ]
  },
  {
   "cell_type": "code",
   "execution_count": null,
   "metadata": {
    "collapsed": true
   },
   "outputs": [],
   "source": [
    "# строим граф\n",
    "# node - ключи массива user, ноды - значения\n",
    "def generate_graph(users):\n",
    "    result = networkx.Graph()\n",
    "    for user in users:\n",
    "        #print user\n",
    "        #print users[user]\n",
    "        \n",
    "        result.add_node(user)\n",
    "        \n",
    "        for friend in users[user]:\n",
    "            if friend in users:\n",
    "                result.add_edge(user, friend)\n",
    "    return result"
   ]
  },
  {
   "cell_type": "code",
   "execution_count": null,
   "metadata": {
    "collapsed": false
   },
   "outputs": [],
   "source": [
    "# проверяем что содержится в файле\n",
    "with open('users.txt','r') as f:\n",
    "    for line in f:\n",
    "        print line\n",
    "        break"
   ]
  },
  {
   "cell_type": "code",
   "execution_count": null,
   "metadata": {
    "collapsed": false
   },
   "outputs": [],
   "source": [
    "users = load_users('users.txt')"
   ]
  },
  {
   "cell_type": "code",
   "execution_count": null,
   "metadata": {
    "collapsed": false
   },
   "outputs": [],
   "source": [
    "# генерим граф\n",
    "g = generate_graph(users)"
   ]
  },
  {
   "cell_type": "code",
   "execution_count": null,
   "metadata": {
    "collapsed": false
   },
   "outputs": [],
   "source": [
    "# считаем pageRank\n",
    "x = networkx.pagerank(g)"
   ]
  },
  {
   "cell_type": "code",
   "execution_count": null,
   "metadata": {
    "collapsed": false
   },
   "outputs": [],
   "source": [
    "# выводим список ID, отсортированных по PageRank\n",
    "for i in sorted(x.keys(), key=lambda z: -x[z])[:10]:\n",
    "    print i, x[i]"
   ]
  },
  {
   "cell_type": "code",
   "execution_count": null,
   "metadata": {
    "collapsed": false
   },
   "outputs": [],
   "source": [
    "# записываем массив с pagerank в файл\n",
    "# эти данные будут учитываться при построении размеров узлов\n",
    "with open('pagerank.txt', 'w') as f:\n",
    "    f.write('id' + '\\t' + 'pagerank' + '\\n')\n",
    "    for i in x.keys():\n",
    "        f.write(str(i) + '\\t' + str(x[i]) + '\\n')"
   ]
  },
  {
   "cell_type": "markdown",
   "metadata": {},
   "source": [
    "### Данные по ID: https://api.vk.com/method/users.get?user_id=12345"
   ]
  },
  {
   "cell_type": "code",
   "execution_count": null,
   "metadata": {
    "collapsed": true
   },
   "outputs": [],
   "source": [
    "data = json_graph.node_link_data(g)\n",
    "with open('graph.json', 'w') as f:\n",
    "    json.dump(data, f, indent=4)"
   ]
  },
  {
   "cell_type": "code",
   "execution_count": null,
   "metadata": {
    "collapsed": false
   },
   "outputs": [],
   "source": [
    "%%html\n",
    "<div id=\"d3-example\" width='1000px'></div>\n",
    "<style>\n",
    ".node {stroke: #fff; stroke-width: 1.5px;}\n",
    ".link {stroke: #999; stroke-opacity: .6;}\n",
    "</style>"
   ]
  },
  {
   "cell_type": "code",
   "execution_count": null,
   "metadata": {
    "collapsed": false
   },
   "outputs": [],
   "source": [
    "%%javascript\n",
    "// We load the d3.js library from the Web.\n",
    "require.config({paths: {d3: \"http://d3js.org/d3.v3.min\"}});\n",
    "require([\"d3\"], function(d3) {\n",
    "    // The code in this block is executed when the \n",
    "    // d3.js library has been loaded.\n",
    "    \n",
    "    // First, we specify the size of the canvas containing\n",
    "    // the visualization (size of the <div> element).\n",
    "    var width = 800,\n",
    "        height = 600;\n",
    "\n",
    "    // We create a color scale.\n",
    "    var color = d3.scale.category10();\n",
    "\n",
    "    // We create a force-directed dynamic graph layout.\n",
    "    var force = d3.layout.force()\n",
    "        .charge(-200)\n",
    "        .linkDistance(100)\n",
    "        .size([width, height])\n",
    "        .friction(.2);\n",
    "\n",
    "    // In the <div> element, we create a <svg> graphic\n",
    "    // that will contain our interactive visualization.\n",
    "    var svg = d3.select(\"#d3-example\").select(\"svg\")\n",
    "    if (svg.empty()) {\n",
    "        svg = d3.select(\"#d3-example\").append(\"svg\")\n",
    "                    .attr(\"width\", width)\n",
    "                    .attr(\"height\", height);\n",
    "    }\n",
    "    \n",
    "    \n",
    "    d3.tsv('pagerank.txt', function(data) {\n",
    "        var prdata = {};\n",
    "        data.forEach(function(d) {\n",
    "            prdata[d.id] = d.pagerank;\n",
    "        });\n",
    "    \n",
    "        // We load the JSON file.\n",
    "        d3.json(\"graph.json\", function(graph) {\n",
    "            // In this block, the file has been loaded\n",
    "            // and the 'graph' object contains our graph.\n",
    "            \n",
    "            graph.fixed = true;\n",
    "            graph.x = width;\n",
    "            graph.y = height / 2 - 80;\n",
    "            \n",
    "            // We load the nodes and links in the force-directed\n",
    "            // graph.\n",
    "            force.nodes(graph.nodes)\n",
    "                .links(graph.links)\n",
    "                .start();\n",
    "\n",
    "            // We create a <line> SVG element for each link\n",
    "            // in the graph.\n",
    "            var link = svg.selectAll(\".link\")\n",
    "                .data(graph.links)\n",
    "                .enter().append(\"line\")\n",
    "                .attr(\"class\", \"link\");\n",
    "\n",
    "            // We create a <circle> SVG element for each node\n",
    "            // in the graph, and we specify a few attributes.\n",
    "            var node = svg.selectAll(\".node\")\n",
    "                .data(graph.nodes)\n",
    "                .enter().append(\"circle\")\n",
    "                .attr(\"class\", \"node\")\n",
    "                //.attr(\"r\", 5)  // radius\n",
    "                .attr(\"r\", function(d) { return prdata[d.id] * 2000; })  // radius\n",
    "                .style(\"fill\", function(d) {\n",
    "                    // The node color depends on the club.\n",
    "                    return color(d.club); \n",
    "                })\n",
    "                .call(force.drag);\n",
    "                       \n",
    "            // The name of each node is the node number.\n",
    "            node.append(\"title\")\n",
    "                .text(function(d) { return d.id; });\n",
    "            \n",
    "            // We bind the positions of the SVG elements\n",
    "            // to the positions of the dynamic force-directed graph,\n",
    "            // at each time step.\n",
    "            force.on(\"tick\", function() {\n",
    "                link.attr(\"x1\", function(d) { return d.source.x; })\n",
    "                    .attr(\"y1\", function(d) { return d.source.y; })\n",
    "                    .attr(\"x2\", function(d) { return d.target.x; })\n",
    "                    .attr(\"y2\", function(d) { return d.target.y; });\n",
    "\n",
    "                node.attr(\"cx\", function(d) { return d.x; })\n",
    "                    .attr(\"cy\", function(d) { return d.y; });\n",
    "            });\n",
    "        });\n",
    "    });\n",
    "});"
   ]
  }
 ],
 "metadata": {
  "kernelspec": {
   "display_name": "Python 2",
   "language": "python",
   "name": "python2"
  },
  "language_info": {
   "codemirror_mode": {
    "name": "ipython",
    "version": 2
   },
   "file_extension": ".py",
   "mimetype": "text/x-python",
   "name": "python",
   "nbconvert_exporter": "python",
   "pygments_lexer": "ipython2",
   "version": "2.7.10"
  }
 },
 "nbformat": 4,
 "nbformat_minor": 0
}
